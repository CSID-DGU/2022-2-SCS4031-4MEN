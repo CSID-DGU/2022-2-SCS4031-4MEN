{
 "cells": [
  {
   "cell_type": "code",
   "execution_count": 26,
   "metadata": {},
   "outputs": [
    {
     "name": "stdout",
     "output_type": "stream",
     "text": [
      "를\n"
     ]
    }
   ],
   "source": [
    "from pyjosa.josa import Josa as js\n",
    "\n",
    "print(js.get_josa(\"피해\",\"을\"))"
   ]
  },
  {
   "cell_type": "code",
   "execution_count": 27,
   "metadata": {},
   "outputs": [
    {
     "name": "stdout",
     "output_type": "stream",
     "text": [
      "피해자 분은 폭행을 당하다\n"
     ]
    }
   ],
   "source": [
    "subject = '피해자 분'\n",
    "target = '폭행'\n",
    "verb = '당하다'\n",
    "\n",
    "full_string = f'{js.get_full_string(subject, \"는\")} {js.get_full_string(target, \"를\")} ' + verb\n",
    "\n",
    "print(full_string)"
   ]
  },
  {
   "cell_type": "code",
   "execution_count": 28,
   "metadata": {},
   "outputs": [
    {
     "name": "stdout",
     "output_type": "stream",
     "text": [
      "[('피해자', 'Noun'), ('분', 'Noun'), ('더', 'Noun'), ('잘', 'Verb'), ('알', 'Noun'), ('고', 'Josa'), ('싶어요', 'Verb'), ('.', 'Punctuation'), ('먹는', 'Verb'), ('거', 'Noun'), ('뭘', 'Noun'), ('좋아해요', 'Adjective'), ('?', 'Punctuation')]\n"
     ]
    }
   ],
   "source": [
    "from collections import Counter\n",
    "\n",
    "from konlpy.corpus import kolaw\n",
    "from konlpy.tag import Hannanum\n",
    "from konlpy.utils import concordance, pprint\n",
    "from matplotlib import pyplot\n",
    "from konlpy.tag import *\n",
    "\n",
    "okt = Okt()\n",
    "\n",
    "test = {'subject' : '피해자', 'object' : '몽둥이', 'verb' : '때리다'}\n",
    "\n",
    "dic = okt.pos(subject+ ' 더 잘 알고 싶어요. 먹는 거 뭘 좋아해요?')\n",
    "\n",
    "print(dic)"
   ]
  },
  {
   "cell_type": "code",
   "execution_count": 29,
   "metadata": {},
   "outputs": [
    {
     "name": "stdout",
     "output_type": "stream",
     "text": [
      "['안녕하세요', '저', '는', '센터', '에서', '나왔어요', '이제', '부터', '몇', '가지', '질문', '을', '할', '겁니다', '힘들면', '얘기', '해주시고', '질문', '이', '이해', '가', '안', '가시', '면', '언제', '든지', '다시', '알려주세요']\n",
      "안녕하세요 저 는 센터 에서 나왔어요 이제 부터 몇 가지 질문 을 할 겁니다 힘들면 얘기 해주시고 질문 이 이해 가 안 가시 면 언제 든지 다시 알려주세요 \n"
     ]
    }
   ],
   "source": [
    "from collections import Counter\n",
    "\n",
    "from konlpy.corpus import kolaw\n",
    "from konlpy.tag import Hannanum\n",
    "from konlpy.utils import concordance, pprint\n",
    "from matplotlib import pyplot\n",
    "\n",
    "okt = Okt()\n",
    "\n",
    "stopwords = '! , . ^^ 아 정말 이제부터 너무 잘 00'\n",
    "stop_words = stopwords.split(' ')\n",
    "\n",
    "chk = '아 안녕하세요! 저는 00센터에서 나왔어요^^ 이제부터 몇 가지 질문을 할겁니다, \\\n",
    "    너무 힘들면 얘기해주시고 질문이 잘 이해가 안 가시면 언제든지 다시 알려주세요.'\n",
    "result = []\n",
    "\n",
    "result = okt.morphs(chk)\n",
    "for i in stop_words:\n",
    "    if i in result:\n",
    "        result.remove(i)\n",
    "\n",
    "print(result)\n",
    "\n",
    "str = ''\n",
    "for i in result:\n",
    "    str += i + ' '\n",
    "\n",
    "print(str)"
   ]
  },
  {
   "cell_type": "code",
   "execution_count": 30,
   "metadata": {},
   "outputs": [
    {
     "name": "stdout",
     "output_type": "stream",
     "text": [
      "안녕하세요 저 는 센터 에서 나왔어요 이제 부터 몇 가지 질문 을 할 겁니다 힘들면 얘기 해주시고 질문 이 이해 가 안 가시 면 언제든지 다시 알려주세요 141 0\n"
     ]
    }
   ],
   "source": [
    "from symspellpy_ko import KoSymSpell, Verbosity\n",
    "\n",
    "sym_spell = KoSymSpell()\n",
    "sym_spell.load_korean_dictionary(decompose_korean=True, load_bigrams=True)\n",
    "\n",
    "for suggestion in sym_spell.lookup_compound(str, max_edit_distance=2):\n",
    "  print(suggestion.term, suggestion.distance, suggestion.count)"
   ]
  }
 ],
 "metadata": {
  "kernelspec": {
   "display_name": "Python 3.9.2 64-bit",
   "language": "python",
   "name": "python3"
  },
  "language_info": {
   "codemirror_mode": {
    "name": "ipython",
    "version": 3
   },
   "file_extension": ".py",
   "mimetype": "text/x-python",
   "name": "python",
   "nbconvert_exporter": "python",
   "pygments_lexer": "ipython3",
   "version": "3.9.2"
  },
  "orig_nbformat": 4,
  "vscode": {
   "interpreter": {
    "hash": "9b3d85959e6c4b3d134916c41e259dea5bccfec32db02b044911dc7b04f0df25"
   }
  }
 },
 "nbformat": 4,
 "nbformat_minor": 2
}
