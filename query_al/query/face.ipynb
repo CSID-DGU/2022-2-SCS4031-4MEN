{
 "cells": [
  {
   "cell_type": "code",
   "execution_count": 10,
   "metadata": {},
   "outputs": [],
   "source": [
    "import math\n",
    "from sklearn import neighbors\n",
    "import os\n",
    "import os.path\n",
    "import pickle\n",
    "from PIL import Image, ImageDraw\n",
    "import face_recognition\n",
    "from face_recognition.face_recognition_cli import image_files_in_folder\n",
    "\n",
    "ALLOWED_EXTENSIONS = {'png', 'jpg', 'jpeg'}\n",
    "\n",
    "\n",
    "def train(train_dir, model_save_path=None, n_neighbors=None, knn_algo='ball_tree', verbose=False):\n",
    "    \"\"\"\n",
    "    Trains a k-nearest neighbors classifier for face recognition.\n",
    "    :param train_dir: directory that contains a sub-directory for each known person, with its name.\n",
    "     (View in source code to see train_dir example tree structure)\n",
    "     Structure:\n",
    "        <train_dir>/\n",
    "        ├── <person1>/\n",
    "        │   ├── <somename1>.jpeg\n",
    "        │   ├── <somename2>.jpeg\n",
    "        │   ├── ...\n",
    "        ├── <person2>/\n",
    "        │   ├── <somename1>.jpeg\n",
    "        │   └── <somename2>.jpeg\n",
    "        └── ...\n",
    "    :param model_save_path: (optional) path to save model on disk\n",
    "    :param n_neighbors: (optional) number of neighbors to weigh in classification. Chosen automatically if not specified\n",
    "    :param knn_algo: (optional) underlying data structure to support knn.default is ball_tree\n",
    "    :param verbose: verbosity of training\n",
    "    :return: returns knn classifier that was trained on the given data.\n",
    "    \"\"\"\n",
    "    X = []\n",
    "    y = []\n",
    "\n",
    "    # Loop through each person in the training set\n",
    "    for class_dir in os.listdir(train_dir):\n",
    "        if not os.path.isdir(os.path.join(train_dir, class_dir)):\n",
    "            continue\n",
    "\n",
    "        # Loop through each training image for the current person\n",
    "        for img_path in image_files_in_folder(os.path.join(train_dir, class_dir)):\n",
    "            image = face_recognition.load_image_file(img_path)\n",
    "            face_bounding_boxes = face_recognition.face_locations(image)\n",
    "\n",
    "            if len(face_bounding_boxes) != 1:\n",
    "                # If there are no people (or too many people) in a training image, skip the image.\n",
    "                if verbose:\n",
    "                    print(\"Image {} not suitable for training: {}\".format(img_path, \"Didn't find a face\" if len(face_bounding_boxes) < 1 else \"Found more than one face\"))\n",
    "            else:\n",
    "                # Add face encoding for current image to the training set\n",
    "                X.append(face_recognition.face_encodings(image, known_face_locations=face_bounding_boxes)[0])\n",
    "                y.append(class_dir)\n",
    "\n",
    "    # Determine how many neighbors to use for weighting in the KNN classifier\n",
    "    if n_neighbors is None:\n",
    "        n_neighbors = int(round(math.sqrt(len(X))))\n",
    "        if verbose:\n",
    "            print(\"Chose n_neighbors automatically:\", n_neighbors)\n",
    "\n",
    "    # Create and train the KNN classifier\n",
    "    knn_clf = neighbors.KNeighborsClassifier(n_neighbors=n_neighbors, algorithm=knn_algo, weights='distance')\n",
    "    knn_clf.fit(X, y)\n",
    "\n",
    "    # Save the trained KNN classifier\n",
    "    if model_save_path is not None:\n",
    "        with open(model_save_path, 'wb') as f:\n",
    "            pickle.dump(knn_clf, f)\n",
    "\n",
    "    return knn_clf\n",
    "\n",
    "\n",
    "def predict(X_img_path, knn_clf=None, model_path=None, distance_threshold=0.6):\n",
    "    \"\"\"\n",
    "    Recognizes faces in given image using a trained KNN classifier\n",
    "    :param X_img_path: path to image to be recognized\n",
    "    :param knn_clf: (optional) a knn classifier object. if not specified, model_save_path must be specified.\n",
    "    :param model_path: (optional) path to a pickled knn classifier. if not specified, model_save_path must be knn_clf.\n",
    "    :param distance_threshold: (optional) distance threshold for face classification. the larger it is, the more chance\n",
    "           of mis-classifying an unknown person as a known one.\n",
    "    :return: a list of names and face locations for the recognized faces in the image: [(name, bounding box), ...].\n",
    "        For faces of unrecognized persons, the name 'unknown' will be returned.\n",
    "    \"\"\"\n",
    "    if not os.path.isfile(X_img_path) or os.path.splitext(X_img_path)[1][1:] not in ALLOWED_EXTENSIONS:\n",
    "        raise Exception(\"Invalid image path: {}\".format(X_img_path))\n",
    "\n",
    "    if knn_clf is None and model_path is None:\n",
    "        raise Exception(\"Must supply knn classifier either thourgh knn_clf or model_path\")\n",
    "\n",
    "    # Load a trained KNN model (if one was passed in)\n",
    "    if knn_clf is None:\n",
    "        with open(model_path, 'rb') as f:\n",
    "            knn_clf = pickle.load(f)\n",
    "\n",
    "    # Load image file and find face locations\n",
    "    X_img = face_recognition.load_image_file(X_img_path)\n",
    "    X_face_locations = face_recognition.face_locations(X_img)\n",
    "\n",
    "    # If no faces are found in the image, return an empty result.\n",
    "    if len(X_face_locations) == 0:\n",
    "        return []\n",
    "\n",
    "    # Find encodings for faces in the test iamge\n",
    "    faces_encodings = face_recognition.face_encodings(X_img, known_face_locations=X_face_locations)\n",
    "\n",
    "    # Use the KNN model to find the best matches for the test face\n",
    "    closest_distances = knn_clf.kneighbors(faces_encodings, n_neighbors=1)\n",
    "    are_matches = [closest_distances[0][i][0] <= distance_threshold for i in range(len(X_face_locations))]\n",
    "    print(closest_distances)\n",
    "    print(are_matches)\n",
    "\n",
    "    # Predict classes and remove classifications that aren't within the threshold\n",
    "    return [(pred, loc) if rec else (\"unknown\", loc) for pred, loc, rec in zip(knn_clf.predict(faces_encodings), X_face_locations, are_matches)]\n",
    "\n",
    "\n",
    "def show_prediction_labels_on_image(img_path, predictions):\n",
    "    \"\"\"\n",
    "    Shows the face recognition results visually.\n",
    "    :param img_path: path to image to be recognized\n",
    "    :param predictions: results of the predict function\n",
    "    :return:\n",
    "    \"\"\"\n",
    "    pil_image = Image.open(img_path).convert(\"RGB\")\n",
    "    draw = ImageDraw.Draw(pil_image)\n",
    "\n",
    "    for name, (top, right, bottom, left) in predictions:\n",
    "        # Draw a box around the face using the Pillow module\n",
    "        draw.rectangle(((left, top), (right, bottom)), outline=(0, 0, 255))\n",
    "\n",
    "        # There's a bug in Pillow where it blows up with non-UTF-8 text\n",
    "        # when using the default bitmap font\n",
    "        name = name.encode(\"UTF-8\")\n",
    "\n",
    "        # Draw a label with a name below the face\n",
    "        text_width, text_height = draw.textsize(name)\n",
    "        draw.rectangle(((left, bottom - text_height - 10), (right, bottom)), fill=(0, 0, 255), outline=(0, 0, 255))\n",
    "        draw.text((left + 6, bottom - text_height - 5), name, fill=(255, 255, 255, 255))\n",
    "\n",
    "    # Remove the drawing library from memory as per the Pillow docs\n",
    "    del draw\n",
    "\n",
    "    # Display the resulting image\n",
    "    pil_image.show()"
   ]
  },
  {
   "cell_type": "code",
   "execution_count": 11,
   "metadata": {},
   "outputs": [
    {
     "name": "stdout",
     "output_type": "stream",
     "text": [
      "Training KNN classifier...\n"
     ]
    },
    {
     "ename": "",
     "evalue": "",
     "output_type": "error",
     "traceback": [
      "\u001b[1;31mCanceled future for execute_request message before replies were done"
     ]
    },
    {
     "ename": "",
     "evalue": "",
     "output_type": "error",
     "traceback": [
      "\u001b[1;31m현재 셀 또는 이전 셀에서 코드를 실행하는 동안 Kernel이 충돌했습니다. 셀의 코드를 검토하여 오류의 가능한 원인을 식별하세요. 자세한 내용을 보려면 <a href='https://aka.ms/vscodeJupyterKernelCrash'> 여기 </a> 를 클릭하세요. 자세한 내용은 Jupyter <a href='command:jupyter.viewOutput'>로그</a>를 참조하세요."
     ]
    }
   ],
   "source": [
    "if __name__ == \"__main__\":\n",
    "    # STEP 1: Train the KNN classifier and save it to disk\n",
    "    # Once the model is trained and saved, you can skip this step next time.\n",
    "    print(\"Training KNN classifier...\")\n",
    "    classifier = train(\"knn_examples/train\", model_save_path=\"trained_knn_model.clf\", n_neighbors=2)\n",
    "    print(\"Training complete!\")"
   ]
  },
  {
   "cell_type": "code",
   "execution_count": null,
   "metadata": {},
   "outputs": [
    {
     "name": "stdout",
     "output_type": "stream",
     "text": [
      "Looking for faces in KakaoTalk_20221127_103438943.jpg\n",
      "(array([[0.32180835]]), array([[5]], dtype=int64))\n",
      "[True]\n",
      "- Found Ko at (194, 605)\n",
      "face not found\n"
     ]
    },
    {
     "name": "stderr",
     "output_type": "stream",
     "text": [
      "C:\\Users\\sangh\\AppData\\Local\\Temp\\ipykernel_50680\\2107830845.py:136: DeprecationWarning: textsize is deprecated and will be removed in Pillow 10 (2023-07-01). Use textbbox or textlength instead.\n",
      "  text_width, text_height = draw.textsize(name)\n"
     ]
    },
    {
     "name": "stdout",
     "output_type": "stream",
     "text": [
      "Looking for faces in KakaoTalk_20221127_103438943_01.jpg\n",
      "(array([[0.21242124]]), array([[5]], dtype=int64))\n",
      "[True]\n",
      "- Found Ko at (277, 598)\n",
      "face not found\n"
     ]
    },
    {
     "name": "stderr",
     "output_type": "stream",
     "text": [
      "C:\\Users\\sangh\\AppData\\Local\\Temp\\ipykernel_50680\\2107830845.py:136: DeprecationWarning: textsize is deprecated and will be removed in Pillow 10 (2023-07-01). Use textbbox or textlength instead.\n",
      "  text_width, text_height = draw.textsize(name)\n"
     ]
    },
    {
     "name": "stdout",
     "output_type": "stream",
     "text": [
      "Looking for faces in KakaoTalk_20221127_103438943_02.jpg\n",
      "(array([[0.21900381]]), array([[5]], dtype=int64))\n",
      "[True]\n",
      "- Found Ko at (48, 480)\n",
      "face not found\n"
     ]
    },
    {
     "name": "stderr",
     "output_type": "stream",
     "text": [
      "C:\\Users\\sangh\\AppData\\Local\\Temp\\ipykernel_50680\\2107830845.py:136: DeprecationWarning: textsize is deprecated and will be removed in Pillow 10 (2023-07-01). Use textbbox or textlength instead.\n",
      "  text_width, text_height = draw.textsize(name)\n"
     ]
    },
    {
     "name": "stdout",
     "output_type": "stream",
     "text": [
      "Looking for faces in KakaoTalk_20221129_161040724.jpg\n",
      "(array([[0.29311529]]), array([[7]], dtype=int64))\n",
      "[True]\n",
      "- Found kwon at (613, 1380)\n",
      "face not found\n"
     ]
    },
    {
     "name": "stderr",
     "output_type": "stream",
     "text": [
      "C:\\Users\\sangh\\AppData\\Local\\Temp\\ipykernel_50680\\2107830845.py:136: DeprecationWarning: textsize is deprecated and will be removed in Pillow 10 (2023-07-01). Use textbbox or textlength instead.\n",
      "  text_width, text_height = draw.textsize(name)\n"
     ]
    },
    {
     "name": "stdout",
     "output_type": "stream",
     "text": [
      "Looking for faces in KakaoTalk_20221129_161040724_01.jpg\n",
      "(array([[0.37535766]]), array([[7]], dtype=int64))\n",
      "[True]\n",
      "- Found kwon at (613, 1508)\n",
      "face not found\n"
     ]
    },
    {
     "name": "stderr",
     "output_type": "stream",
     "text": [
      "C:\\Users\\sangh\\AppData\\Local\\Temp\\ipykernel_50680\\2107830845.py:136: DeprecationWarning: textsize is deprecated and will be removed in Pillow 10 (2023-07-01). Use textbbox or textlength instead.\n",
      "  text_width, text_height = draw.textsize(name)\n"
     ]
    },
    {
     "name": "stdout",
     "output_type": "stream",
     "text": [
      "Looking for faces in KakaoTalk_20221129_204921270.jpg\n",
      "(array([[0.38247914]]), array([[5]], dtype=int64))\n",
      "[True]\n",
      "- Found Ko at (97, 139)\n",
      "face not found\n"
     ]
    },
    {
     "name": "stderr",
     "output_type": "stream",
     "text": [
      "C:\\Users\\sangh\\AppData\\Local\\Temp\\ipykernel_50680\\2107830845.py:136: DeprecationWarning: textsize is deprecated and will be removed in Pillow 10 (2023-07-01). Use textbbox or textlength instead.\n",
      "  text_width, text_height = draw.textsize(name)\n"
     ]
    },
    {
     "name": "stdout",
     "output_type": "stream",
     "text": [
      "Looking for faces in KakaoTalk_20221129_204941840.jpg\n",
      "(array([[0.41262053]]), array([[7]], dtype=int64))\n",
      "[True]\n",
      "- Found kwon at (92, 167)\n",
      "face not found\n"
     ]
    },
    {
     "name": "stderr",
     "output_type": "stream",
     "text": [
      "C:\\Users\\sangh\\AppData\\Local\\Temp\\ipykernel_50680\\2107830845.py:136: DeprecationWarning: textsize is deprecated and will be removed in Pillow 10 (2023-07-01). Use textbbox or textlength instead.\n",
      "  text_width, text_height = draw.textsize(name)\n"
     ]
    },
    {
     "name": "stdout",
     "output_type": "stream",
     "text": [
      "Looking for faces in KakaoTalk_20221130_134033189.jpg\n",
      "(array([[0.28927944]]), array([[7]], dtype=int64))\n",
      "[True]\n",
      "- Found kwon at (399, 913)\n",
      "face not found\n"
     ]
    },
    {
     "name": "stderr",
     "output_type": "stream",
     "text": [
      "C:\\Users\\sangh\\AppData\\Local\\Temp\\ipykernel_50680\\2107830845.py:136: DeprecationWarning: textsize is deprecated and will be removed in Pillow 10 (2023-07-01). Use textbbox or textlength instead.\n",
      "  text_width, text_height = draw.textsize(name)\n"
     ]
    },
    {
     "name": "stdout",
     "output_type": "stream",
     "text": [
      "Looking for faces in KakaoTalk_20221130_134109728.jpg\n",
      "(array([[0.38736483]]), array([[7]], dtype=int64))\n",
      "[True]\n",
      "- Found kwon at (723, 937)\n",
      "face not found\n"
     ]
    },
    {
     "name": "stderr",
     "output_type": "stream",
     "text": [
      "C:\\Users\\sangh\\AppData\\Local\\Temp\\ipykernel_50680\\2107830845.py:136: DeprecationWarning: textsize is deprecated and will be removed in Pillow 10 (2023-07-01). Use textbbox or textlength instead.\n",
      "  text_width, text_height = draw.textsize(name)\n"
     ]
    },
    {
     "name": "stdout",
     "output_type": "stream",
     "text": [
      "Looking for faces in KakaoTalk_20221130_134156659.jpg\n",
      "(array([[0.]]), array([[7]], dtype=int64))\n",
      "[True]\n",
      "- Found kwon at (1046, 1579)\n",
      "face not found\n"
     ]
    },
    {
     "name": "stderr",
     "output_type": "stream",
     "text": [
      "C:\\Users\\sangh\\AppData\\Local\\Temp\\ipykernel_50680\\2107830845.py:136: DeprecationWarning: textsize is deprecated and will be removed in Pillow 10 (2023-07-01). Use textbbox or textlength instead.\n",
      "  text_width, text_height = draw.textsize(name)\n"
     ]
    },
    {
     "name": "stdout",
     "output_type": "stream",
     "text": [
      "Looking for faces in KakaoTalk_20221130_134239579.jpg\n",
      "(array([[0.35002916]]), array([[7]], dtype=int64))\n",
      "[True]\n",
      "- Found kwon at (613, 741)\n",
      "face not found\n"
     ]
    },
    {
     "name": "stderr",
     "output_type": "stream",
     "text": [
      "C:\\Users\\sangh\\AppData\\Local\\Temp\\ipykernel_50680\\2107830845.py:136: DeprecationWarning: textsize is deprecated and will be removed in Pillow 10 (2023-07-01). Use textbbox or textlength instead.\n",
      "  text_width, text_height = draw.textsize(name)\n"
     ]
    },
    {
     "name": "stdout",
     "output_type": "stream",
     "text": [
      "Looking for faces in KakaoTalk_20221130_134304096.jpg\n",
      "(array([[0.27095163]]), array([[7]], dtype=int64))\n",
      "[True]\n",
      "- Found kwon at (741, 613)\n",
      "face not found\n"
     ]
    },
    {
     "name": "stderr",
     "output_type": "stream",
     "text": [
      "C:\\Users\\sangh\\AppData\\Local\\Temp\\ipykernel_50680\\2107830845.py:136: DeprecationWarning: textsize is deprecated and will be removed in Pillow 10 (2023-07-01). Use textbbox or textlength instead.\n",
      "  text_width, text_height = draw.textsize(name)\n"
     ]
    }
   ],
   "source": [
    "for image_file in os.listdir(\"knn_examples/test\"):\n",
    "    full_file_path = os.path.join(\"knn_examples/test\", image_file)\n",
    "\n",
    "    print(\"Looking for faces in {}\".format(image_file))\n",
    "\n",
    "    # Find all people in the image using a trained classifier model\n",
    "    # Note: You can pass in either a classifier file name or a classifier model instance\n",
    "    predictions = predict(full_file_path, model_path=\"trained_knn_model.clf\")\n",
    "\n",
    "    # Print results on the console\n",
    "    for name, (top, right, bottom, left) in predictions:\n",
    "        print(\"- Found {} at ({}, {})\".format(name, left, top))\n",
    "\n",
    "    # Display results overlaid on an image\n",
    "    show_prediction_labels_on_image(os.path.join(\"knn_examples/test\", image_file), predictions)"
   ]
  }
 ],
 "metadata": {
  "kernelspec": {
   "display_name": "Python 3.9.2 64-bit",
   "language": "python",
   "name": "python3"
  },
  "language_info": {
   "codemirror_mode": {
    "name": "ipython",
    "version": 3
   },
   "file_extension": ".py",
   "mimetype": "text/x-python",
   "name": "python",
   "nbconvert_exporter": "python",
   "pygments_lexer": "ipython3",
   "version": "3.9.2"
  },
  "orig_nbformat": 4,
  "vscode": {
   "interpreter": {
    "hash": "9b3d85959e6c4b3d134916c41e259dea5bccfec32db02b044911dc7b04f0df25"
   }
  }
 },
 "nbformat": 4,
 "nbformat_minor": 2
}
