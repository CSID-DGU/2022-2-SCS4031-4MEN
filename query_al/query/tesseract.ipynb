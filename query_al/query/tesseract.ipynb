{
 "cells": [
  {
   "cell_type": "code",
   "execution_count": 1,
   "metadata": {},
   "outputs": [
    {
     "data": {
      "text/plain": [
       "<Popen: returncode: None args: '../myAAC_pc.app/나의AAC PC (Ver 2.0).exe'>"
      ]
     },
     "execution_count": 1,
     "metadata": {},
     "output_type": "execute_result"
    }
   ],
   "source": [
    "from PIL import Image, ImageGrab\n",
    "import win32gui\n",
    "import pytesseract\n",
    "import time\n",
    "import subprocess as sb\n",
    "\n",
    "sb.Popen('../myAAC_pc.app/나의AAC PC (Ver 2.0).exe')\n"
   ]
  },
  {
   "cell_type": "code",
   "execution_count": 2,
   "metadata": {},
   "outputs": [
    {
     "name": "stdout",
     "output_type": "stream",
     "text": [
      "133068\n"
     ]
    }
   ],
   "source": [
    "time.sleep(3)\n",
    "pytesseract.pytesseract.tesseract_cmd = r'C:\\Users\\sangh\\AppData\\Local\\Tesseract-OCR\\tesseract.exe'\n",
    "screen = win32gui.FindWindow(None, '나의AAC PC (ver 2.0)')\n",
    "print(screen)"
   ]
  },
  {
   "cell_type": "code",
   "execution_count": 3,
   "metadata": {},
   "outputs": [],
   "source": [
    "screen = win32gui.FindWindow(None, '나의AAC PC (ver 2.0)')\n",
    "bbox = win32gui.GetClientRect(screen)\n",
    "img = ImageGrab.grab(bbox)\n",
    "img.show()\n",
    "area = (12, 280, 125, 330)\n",
    "cr_img = img.crop(area)\n",
    "cr_img.show()"
   ]
  },
  {
   "cell_type": "code",
   "execution_count": 4,
   "metadata": {},
   "outputs": [
    {
     "name": "stdout",
     "output_type": "stream",
     "text": [
      "\n"
     ]
    }
   ],
   "source": [
    "text = pytesseract.image_to_string(cr_img, lang='kor', config='-c preserve_interword_spaces=1 --oem 3 --psm 7')\n",
    "text = text.strip()\n",
    "print(text)"
   ]
  },
  {
   "cell_type": "code",
   "execution_count": 5,
   "metadata": {},
   "outputs": [],
   "source": [
    "if text == '아니요':\n",
    "    print('ok')"
   ]
  },
  {
   "cell_type": "code",
   "execution_count": 15,
   "metadata": {},
   "outputs": [
    {
     "name": "stdout",
     "output_type": "stream",
     "text": [
      "일요일\n",
      "： 수요일 ㅣ\n",
      "수요일\n"
     ]
    },
    {
     "ename": "KeyboardInterrupt",
     "evalue": "",
     "output_type": "error",
     "traceback": [
      "\u001b[1;31m---------------------------------------------------------------------------\u001b[0m",
      "\u001b[1;31mKeyboardInterrupt\u001b[0m                         Traceback (most recent call last)",
      "\u001b[1;32mc:\\Users\\sangh\\Desktop\\2022-2-SCS4031-4MEN-personal\\query\\tesseract.ipynb 셀 6\u001b[0m in \u001b[0;36m<cell line: 3>\u001b[1;34m()\u001b[0m\n\u001b[0;32m      <a href='vscode-notebook-cell:/c%3A/Users/sangh/Desktop/2022-2-SCS4031-4MEN-personal/query/tesseract.ipynb#W5sZmlsZQ%3D%3D?line=1'>2</a>\u001b[0m ansok \u001b[39m=\u001b[39m \u001b[39mFalse\u001b[39;00m\n\u001b[0;32m      <a href='vscode-notebook-cell:/c%3A/Users/sangh/Desktop/2022-2-SCS4031-4MEN-personal/query/tesseract.ipynb#W5sZmlsZQ%3D%3D?line=2'>3</a>\u001b[0m \u001b[39mwhile\u001b[39;00m \u001b[39mnot\u001b[39;00m ansok:\n\u001b[1;32m----> <a href='vscode-notebook-cell:/c%3A/Users/sangh/Desktop/2022-2-SCS4031-4MEN-personal/query/tesseract.ipynb#W5sZmlsZQ%3D%3D?line=4'>5</a>\u001b[0m     time\u001b[39m.\u001b[39;49msleep(\u001b[39m3\u001b[39;49m)\n\u001b[0;32m      <a href='vscode-notebook-cell:/c%3A/Users/sangh/Desktop/2022-2-SCS4031-4MEN-personal/query/tesseract.ipynb#W5sZmlsZQ%3D%3D?line=5'>6</a>\u001b[0m     screen \u001b[39m=\u001b[39m win32gui\u001b[39m.\u001b[39mFindWindow(\u001b[39mNone\u001b[39;00m, \u001b[39m'\u001b[39m\u001b[39m나의AAC PC (ver 2.0)\u001b[39m\u001b[39m'\u001b[39m)\n\u001b[0;32m      <a href='vscode-notebook-cell:/c%3A/Users/sangh/Desktop/2022-2-SCS4031-4MEN-personal/query/tesseract.ipynb#W5sZmlsZQ%3D%3D?line=6'>7</a>\u001b[0m     bbox \u001b[39m=\u001b[39m win32gui\u001b[39m.\u001b[39mGetWindowRect(screen)\n",
      "\u001b[1;31mKeyboardInterrupt\u001b[0m: "
     ]
    }
   ],
   "source": [
    "expected_A1 = {'네', '아니요', '잘 모르겠'}\n",
    "ansok = False\n",
    "while not ansok:\n",
    "\n",
    "    time.sleep(3)\n",
    "    screen = win32gui.FindWindow(None, '나의AAC PC (ver 2.0)')\n",
    "    bbox = win32gui.GetWindowRect(screen)\n",
    "    img = ImageGrab.grab(bbox)\n",
    "    area = (3, 270, 150, 320)\n",
    "    cr_img = img.crop(area)\n",
    "    cr_img.show()\n",
    "    ans = pytesseract.image_to_string(cr_img, lang='kor', config='-c preserve_interword_spaces=1 --oem 3 --psm 7')\n",
    "    ans = ans.strip()\n",
    "    print(ans)\n",
    "    \n"
   ]
  },
  {
   "cell_type": "code",
   "execution_count": null,
   "metadata": {},
   "outputs": [
    {
     "name": "stdout",
     "output_type": "stream",
     "text": [
      "삼촌\n"
     ]
    }
   ],
   "source": [
    "screen = win32gui.FindWindow(None, '나의AAC PC (ver 2.0)')\n",
    "bbox = win32gui.GetWindowRect(screen)\n",
    "img = ImageGrab.grab(bbox)\n",
    "area = (7, 265, 140, 315)\n",
    "cr_img = img.crop(area)\n",
    "cr_img.show()\n",
    "ans = pytesseract.image_to_string(cr_img, lang='kor', config='-c preserve_interword_spaces=1 --oem 3 --psm 7')\n",
    "ans = ans.strip()\n",
    "print(ans)"
   ]
  }
 ],
 "metadata": {
  "kernelspec": {
   "display_name": "Python 3.10.4 64-bit",
   "language": "python",
   "name": "python3"
  },
  "language_info": {
   "codemirror_mode": {
    "name": "ipython",
    "version": 3
   },
   "file_extension": ".py",
   "mimetype": "text/x-python",
   "name": "python",
   "nbconvert_exporter": "python",
   "pygments_lexer": "ipython3",
   "version": "3.10.4"
  },
  "orig_nbformat": 4,
  "vscode": {
   "interpreter": {
    "hash": "ecf85ece50ae9932dc69b337fede772ab8e4cf41a5715d3f937464ca8f241866"
   }
  }
 },
 "nbformat": 4,
 "nbformat_minor": 2
}
